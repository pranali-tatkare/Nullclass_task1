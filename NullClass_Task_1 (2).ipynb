{
 "cells": [
  {
   "cell_type": "code",
   "execution_count": 4,
   "id": "24fd3197",
   "metadata": {},
   "outputs": [],
   "source": [
    "# Task 1: Load a pre-trained LSTM-based NMT model and use it to translate a sentence from one language to another."
   ]
  },
  {
   "cell_type": "code",
   "execution_count": null,
   "id": "418274f4",
   "metadata": {},
   "outputs": [],
   "source": [
    "from transformers import MarianMTModel, MarianTokenizer\n",
    "\n",
    "# Load the pre-trained MarianMT model and tokenizer for translation from English to French\n",
    "#\"Helsinki-NLP/opus-mt-en-fr\" refers to a specific machine translation model developed by \n",
    "#the Helsinki Natural Language Processing (NLP) group\n",
    "model_name = 'Helsinki-NLP/opus-mt-en-fr'\n",
    "tokenizer = MarianTokenizer.from_pretrained(model_name)\n",
    "model = MarianMTModel.from_pretrained(model_name)"
   ]
  },
  {
   "cell_type": "code",
   "execution_count": 5,
   "id": "222f1ea7",
   "metadata": {},
   "outputs": [],
   "source": [
    "# Function to translate text\n",
    "def translate(text):\n",
    "    #  input text\n",
    "    inputs = tokenizer(text, return_tensors=\"pt\", padding=True)\n",
    "\n",
    "    # Generate translation using the model\n",
    "    translated_tokens = model.generate(**inputs)\n",
    "\n",
    "    # Decode the generated tokens to get the translated text\n",
    "    translated_text = tokenizer.batch_decode(translated_tokens, skip_special_tokens=True)[0]\n",
    "\n",
    "    return translated_text"
   ]
  },
  {
   "cell_type": "code",
   "execution_count": 7,
   "id": "7f05234d",
   "metadata": {},
   "outputs": [
    {
     "name": "stdout",
     "output_type": "stream",
     "text": [
      "Enter a sentence to translate from English to French: hello\n",
      "Translated Sentence: Bonjour.\n"
     ]
    }
   ],
   "source": [
    "# Take input sentence from user\n",
    "user_sentence = input(\"Enter a sentence to translate from English to French: \")\n",
    "translated_sentence = translate(user_sentence)\n",
    "print(f\"Translated Sentence: {translated_sentence}\")"
   ]
  },
  {
   "cell_type": "code",
   "execution_count": null,
   "id": "71d01ebf",
   "metadata": {},
   "outputs": [],
   "source": [
    "\n",
    "\n",
    "  "
   ]
  },
  {
   "cell_type": "code",
   "execution_count": 1,
   "id": "0d0d279c",
   "metadata": {},
   "outputs": [
    {
     "name": "stderr",
     "output_type": "stream",
     "text": [
      "C:\\Users\\HP\\anaconda3\\lib\\site-packages\\transformers\\models\\marian\\tokenization_marian.py:175: UserWarning: Recommended: pip install sacremoses.\n",
      "  warnings.warn(\"Recommended: pip install sacremoses.\")\n"
     ]
    }
   ],
   "source": [
    "############## python Gui##############################\n",
    "import tkinter as tk\n",
    "from tkinter import messagebox\n",
    "from transformers import MarianMTModel, MarianTokenizer\n",
    "\n",
    "# Load the pre-trained MarianMT model and tokenizer for translation from English to French\n",
    "model_name = 'Helsinki-NLP/opus-mt-en-fr'\n",
    "tokenizer = MarianTokenizer.from_pretrained(model_name)\n",
    "model = MarianMTModel.from_pretrained(model_name)\n",
    "\n",
    "# Function to translate text\n",
    "def translate(text):\n",
    "    # Tokenize the input text\n",
    "    inputs = tokenizer(text, return_tensors=\"pt\", padding=True, truncation=True)\n",
    "\n",
    "    # Generate translation using the model\n",
    "    translated_tokens = model.generate(**inputs)\n",
    "\n",
    "    # Decode the generated tokens to get the translated text\n",
    "    translated_text = tokenizer.batch_decode(translated_tokens, skip_special_tokens=True)[0]\n",
    "\n",
    "    return translated_text\n",
    "\n",
    "# Function to handle the translation when the button is clicked\n",
    "def translate_text():\n",
    "    english_text = input_text.get(\"1.0\", tk.END).strip()\n",
    "    if not english_text:\n",
    "        messagebox.showerror(\"Input Error\", \"Please enter a sentence to translate.\")\n",
    "        return\n",
    "\n",
    "    translated_sentence = translate(english_text)\n",
    "    output_text.config(state=tk.NORMAL)\n",
    "    output_text.delete(\"1.0\", tk.END)\n",
    "    output_text.insert(tk.END, translated_sentence)\n",
    "    output_text.config(state=tk.DISABLED)\n",
    "\n",
    "# Create the main application window\n",
    "root = tk.Tk()\n",
    "root.title(\"English to French Translator!!!!!!\")\n",
    "\n",
    "# Create a text widget for input text\n",
    "input_label = tk.Label(root, text=\"Enter English sentence:\")\n",
    "input_label.pack(pady=10)\n",
    "input_text = tk.Text(root, height=10, width=50)\n",
    "input_text.pack(pady=10)\n",
    "\n",
    "# Create a button to trigger the translation\n",
    "translate_button = tk.Button(root, text=\"Translate\", command=translate_text)\n",
    "translate_button.pack(pady=10)\n",
    "\n",
    "# Create a text widget for output text\n",
    "output_label = tk.Label(root, text=\"Translated  sentence:\")\n",
    "output_label.pack(pady=10)\n",
    "output_text = tk.Text(root, height=10, width=50, state=tk.DISABLED)\n",
    "output_text.pack(pady=10)\n",
    "\n",
    "# Run the application\n",
    "root.mainloop()\n"
   ]
  },
  {
   "cell_type": "code",
   "execution_count": null,
   "id": "ef01af68",
   "metadata": {},
   "outputs": [],
   "source": []
  }
 ],
 "metadata": {
  "kernelspec": {
   "display_name": "Python 3 (ipykernel)",
   "language": "python",
   "name": "python3"
  },
  "language_info": {
   "codemirror_mode": {
    "name": "ipython",
    "version": 3
   },
   "file_extension": ".py",
   "mimetype": "text/x-python",
   "name": "python",
   "nbconvert_exporter": "python",
   "pygments_lexer": "ipython3",
   "version": "3.9.13"
  }
 },
 "nbformat": 4,
 "nbformat_minor": 5
}
